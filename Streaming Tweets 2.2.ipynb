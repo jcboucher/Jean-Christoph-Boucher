{
 "cells": [
  {
   "cell_type": "code",
   "execution_count": null,
   "metadata": {},
   "outputs": [],
   "source": [
    "from tweepy import Stream\n",
    "from tweepy import OAuthHandler\n",
    "from tweepy.streaming import StreamListener\n",
    "import json, csv, os"
   ]
  },
  {
   "cell_type": "code",
   "execution_count": null,
   "metadata": {},
   "outputs": [],
   "source": [
    "ckey = 'cHR3HtMR2zdD8QoZFT38kp3eR'\n",
    "csecret = 'ek5Tk9GSGxz3UlHP5oJQclAZ8YSisX7RJ5X8uKlU9aQxDk45zf'\n",
    "atoken = '1217553109662093313-VTETsXBEyLfAAIdB6mNzToF5n1YE54'\n",
    "asecret = 'UXMLNsdFnrcYlbdDPcxPkgOcLiom6dEQt0htF4x7bywOt'\n",
    "\n",
    "auth = OAuthHandler(ckey, csecret)\n",
    "auth.set_access_token(atoken, asecret)\n",
    "\n",
    "class Tweetlistener(StreamListener):\n",
    "    def on_status(self, status):\n",
    "        description = status.user.description\n",
    "        loc = status.user.location\n",
    "        text = status.text\n",
    "        coords = status.coordinates\n",
    "        name = status.user.screen_name\n",
    "        user_created = status.user.created_at\n",
    "        followers = status.user.followers_count\n",
    "        id_str = status.id_str\n",
    "        created = status.created_at\n",
    "        retweets = status.retweet_count\n",
    "        with open('data/test9.csv', 'a', encoding='utf-8') as f:\n",
    "            headers = ['location', 'text', 'coordinates', 'name', 'user_created', 'followers', 'id_str', 'created', 'retweets']\n",
    "            file_is_empty = os.stat('data/test9.csv').st_size == 0\n",
    "            writer = csv.writer(f, delimiter=',', lineterminator='\\n')\n",
    "            if file_is_empty:\n",
    "                writer.writerow(headers)\n",
    "            if any(x in status.text.lower() for x in ['trump', 'clinton']):\n",
    "                writer.writerow([loc, text, name, user_created, followers, id_str, created, retweets]) \n",
    "\n",
    "    def on_error(self, status):\n",
    "        print(status)\n",
    "\n",
    "twitterStream = Stream(auth, Tweetlistener(), secure = True)\n",
    "twitterStream.filter(locations=[-140.99778, 41.6751050889, -52.6480987209, 83.23324])"
   ]
  }
 ],
 "metadata": {
  "kernelspec": {
   "display_name": "Python 3",
   "language": "python",
   "name": "python3"
  },
  "language_info": {
   "codemirror_mode": {
    "name": "ipython",
    "version": 3
   },
   "file_extension": ".py",
   "mimetype": "text/x-python",
   "name": "python",
   "nbconvert_exporter": "python",
   "pygments_lexer": "ipython3",
   "version": "3.7.6"
  }
 },
 "nbformat": 4,
 "nbformat_minor": 4
}
